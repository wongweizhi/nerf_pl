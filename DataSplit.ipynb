{
 "cells": [
  {
   "cell_type": "code",
   "execution_count": 30,
   "metadata": {},
   "outputs": [],
   "source": [
    "import pandas as pd\n",
    "import os\n",
    "\n",
    "dataset_name = 'palace_of_westminster'\n",
    "path = f'/home/laylay/nerf_pl/Data/StitchingData/{dataset_name}'\n",
    "images = f'{path}/dense/images'\n",
    "out_path = f'{path}/{dataset_name}.tsv'\n",
    "\n",
    "db = []\n",
    "\n",
    "header = ['filename', 'id', 'split', 'dataset']\n",
    "\n",
    "for i, image in enumerate(os.listdir(images)):\n",
    "    # todo set proper train/test\n",
    "    if i < 20:\n",
    "        db.append([image, str(i), \"test\", dataset_name])\n",
    "    else:\n",
    "        db.append([image, str(i), 'train', dataset_name])\n",
    "\n",
    "with open(out_path, 'w') as f:\n",
    "    f.write('\\t'.join(header))\n",
    "    f.write('\\n')\n",
    "\n",
    "    for data in db:\n",
    "        f.write('\\t'.join(data))\n",
    "        f.write('\\n')"
   ]
  },
  {
   "cell_type": "code",
   "execution_count": null,
   "metadata": {},
   "outputs": [],
   "source": []
  },
  {
   "cell_type": "code",
   "execution_count": null,
   "metadata": {},
   "outputs": [],
   "source": [
    "python train.py \\\n",
    "  --root_dir /home/laylay/nerf_pl/Data/temple_nara_japan --dataset_name phototourism \\\n",
    "  --img_downscale 8 --use_cache \\\n",
    "  --N_importance 64 --N_samples 64 --encode_a --encode_t --beta_min 0.03 --N_vocab 3700 --N_emb_xyz 15 \\\n",
    "  --num_epochs 30 --batch_size 1024 \\\n",
    "  --optimizer adam --lr 5e-4 --lr_scheduler cosine \\\n",
    "  --exp_name temple_nara_japan"
   ]
  }
 ],
 "metadata": {
  "kernelspec": {
   "display_name": "nerf_pl",
   "language": "python",
   "name": "python3"
  },
  "language_info": {
   "codemirror_mode": {
    "name": "ipython",
    "version": 3
   },
   "file_extension": ".py",
   "mimetype": "text/x-python",
   "name": "python",
   "nbconvert_exporter": "python",
   "pygments_lexer": "ipython3",
   "version": "3.6.13"
  },
  "orig_nbformat": 4
 },
 "nbformat": 4,
 "nbformat_minor": 2
}
